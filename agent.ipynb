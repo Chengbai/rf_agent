{
 "cells": [
  {
   "cell_type": "code",
   "execution_count": 8,
   "id": "80345412",
   "metadata": {},
   "outputs": [
    {
     "name": "stdout",
     "output_type": "stream",
     "text": [
      "The autoreload extension is already loaded. To reload it, use:\n",
      "  %reload_ext autoreload\n"
     ]
    }
   ],
   "source": [
    "%load_ext autoreload\n",
    "%autoreload 2\n",
    "\n",
    "import matplotlib.pyplot as plt\n",
    "from IPython.display import display, clear_output\n",
    "\n",
    "import torch\n",
    "\n",
    "from random import randint\n",
    "\n",
    "from src.action import Action\n",
    "from src.agent import Agent\n",
    "from src.config import Config\n",
    "from src.state import State\n",
    "from src.world import World"
   ]
  },
  {
   "cell_type": "markdown",
   "id": "24bb4a72",
   "metadata": {},
   "source": [
    "# Init \n",
    "----"
   ]
  },
  {
   "cell_type": "code",
   "execution_count": 6,
   "id": "99c3ccdf",
   "metadata": {},
   "outputs": [],
   "source": [
    "config = Config()\n",
    "world = World.create_from_config(config=config)\n",
    "state = State.create_from(\n",
    "    config=config,\n",
    "    id=\"earth\",\n",
    "    x=randint(config.world_min_x, config.world_max_x),\n",
    "    y=randint(config.world_min_y, config.world_max_y),\n",
    ")\n",
    "agent = Agent.create_from(id=\"earth\", state=state)"
   ]
  },
  {
   "cell_type": "code",
   "execution_count": null,
   "id": "e77081eb",
   "metadata": {},
   "outputs": [],
   "source": []
  },
  {
   "cell_type": "markdown",
   "id": "85b28aa3",
   "metadata": {},
   "source": [
    "# Draw agent action history\n",
    "----"
   ]
  },
  {
   "cell_type": "code",
   "execution_count": 12,
   "id": "41cd6731",
   "metadata": {},
   "outputs": [],
   "source": [
    "for step in range(10):\n",
    "    action_idx = randint(0, len(config.possible_actions))\n",
    "    agent.take_action(action=Action.create_from(config=config, action_idx=action_idx))"
   ]
  },
  {
   "cell_type": "code",
   "execution_count": 13,
   "id": "cdd94e4a",
   "metadata": {},
   "outputs": [
    {
     "data": {
      "image/png": "[encoded data removed]",
      "text/plain": [
       "<Figure size 640x480 with 1 Axes>"
      ]
     },
     "metadata": {},
     "output_type": "display_data"
    }
   ],
   "source": [
    "fig = plt.figure()\n",
    "ax = fig.add_subplot(1, 1, 1)\n",
    "world.viz(ax=ax, agent=agent)\n",
    "plt.show()"
   ]
  },
  {
   "cell_type": "code",
   "execution_count": 10,
   "id": "2331e598",
   "metadata": {},
   "outputs": [
    {
     "data": {
      "text/plain": [
       "matplotlib.axes._axes.Axes"
      ]
     },
     "execution_count": 10,
     "metadata": {},
     "output_type": "execute_result"
    }
   ],
   "source": [
    "type(ax)"
   ]
  },
  {
   "cell_type": "code",
   "execution_count": null,
   "id": "56367d0f",
   "metadata": {},
   "outputs": [],
   "source": []
  }
 ],
 "metadata": {
  "kernelspec": {
   "display_name": "torch",
   "language": "python",
   "name": "python3"
  },
  "language_info": {
   "codemirror_mode": {
    "name": "ipython",
    "version": 3
   },
   "file_extension": ".py",
   "mimetype": "text/x-python",
   "name": "python",
   "nbconvert_exporter": "python",
   "pygments_lexer": "ipython3",
   "version": "3.11.10"
  }
 },
 "nbformat": 4,
 "nbformat_minor": 5
}
