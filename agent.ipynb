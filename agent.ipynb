{
 "cells": [
  {
   "cell_type": "code",
   "execution_count": 1,
   "id": "80345412",
   "metadata": {},
   "outputs": [],
   "source": [
    "import torch\n",
    "\n",
    "from random import random, randint\n",
    "\n",
    "from src.agent import Agent\n",
    "from src.config import Config\n",
    "from src.state import State\n",
    "from src.world import World"
   ]
  },
  {
   "cell_type": "markdown",
   "id": "24bb4a72",
   "metadata": {},
   "source": [
    "# Init \n",
    "----"
   ]
  },
  {
   "cell_type": "code",
   "execution_count": 3,
   "id": "99c3ccdf",
   "metadata": {},
   "outputs": [],
   "source": [
    "config = Config()\n",
    "world = World.create_from_config(config=config)\n",
    "state = State.create_from(\n",
    "    config=config,\n",
    "    id=\"earth\",\n",
    "    x=randint(config.world_min_x, config.world_max_x),\n",
    "    y=randint(config.world_min_y, config.world_max_y),\n",
    ")\n",
    "agent = Agent.create_from(id=\"earth\", state=state)"
   ]
  },
  {
   "cell_type": "code",
   "execution_count": null,
   "id": "e77081eb",
   "metadata": {},
   "outputs": [],
   "source": []
  }
 ],
 "metadata": {
  "kernelspec": {
   "display_name": "torch",
   "language": "python",
   "name": "python3"
  },
  "language_info": {
   "codemirror_mode": {
    "name": "ipython",
    "version": 3
   },
   "file_extension": ".py",
   "mimetype": "text/x-python",
   "name": "python",
   "nbconvert_exporter": "python",
   "pygments_lexer": "ipython3",
   "version": "3.11.10"
  }
 },
 "nbformat": 4,
 "nbformat_minor": 5
}
