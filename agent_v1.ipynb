{
 "cells": [
  {
   "cell_type": "code",
   "execution_count": 6,
   "id": "80345412",
   "metadata": {},
   "outputs": [
    {
     "name": "stdout",
     "output_type": "stream",
     "text": [
      "The autoreload extension is already loaded. To reload it, use:\n",
      "  %reload_ext autoreload\n"
     ]
    }
   ],
   "source": [
    "%load_ext autoreload\n",
    "%autoreload 2\n",
    "\n",
    "import matplotlib.pyplot as plt\n",
    "from IPython.display import display, clear_output\n",
    "\n",
    "import numpy as np\n",
    "import random\n",
    "import torch\n",
    "\n",
    "from torch.utils.tensorboard import SummaryWriter\n",
    "\n",
    "from src.action import Action\n",
    "from src.agent import Agent\n",
    "from src.config import Config\n",
    "from src.episode import Episode\n",
    "from src.policy import Policy\n",
    "from src.reward_model import RewardModel\n",
    "from src.state import State\n",
    "from src.utils import top_k_sampling\n",
    "from src.world import World\n",
    "import src.utils as utils"
   ]
  },
  {
   "cell_type": "markdown",
   "id": "85b28aa3",
   "metadata": {},
   "source": [
    "# Random agent action history\n",
    "----"
   ]
  },
  {
   "cell_type": "code",
   "execution_count": 7,
   "id": "6660c631",
   "metadata": {},
   "outputs": [
    {
     "data": {
      "text/plain": [
       "(20, 30)"
      ]
     },
     "execution_count": 7,
     "metadata": {},
     "output_type": "execute_result"
    }
   ],
   "source": [
    "config = Config()\n",
    "reward_model = RewardModel(config=config)\n",
    "world_board = np.zeros(shape=(config.world_height, config.world_width))\n",
    "world_board.shape"
   ]
  },
  {
   "cell_type": "code",
   "execution_count": 3,
   "id": "41cd6731",
   "metadata": {},
   "outputs": [],
   "source": [
    "episode = Episode.new(id=\"test\")\n",
    "episode.run_steps_by_random(steps=30)"
   ]
  },
  {
   "cell_type": "code",
   "execution_count": 4,
   "id": "cdd94e4a",
   "metadata": {},
   "outputs": [
    {
     "data": {
      "image/png": "[encoded data removed]",
      "text/plain": [
       "<Figure size 500x500 with 1 Axes>"
      ]
     },
     "metadata": {},
     "output_type": "display_data"
    }
   ],
   "source": [
    "fig = plt.figure(figsize=config.figure_size)\n",
    "ax = fig.add_subplot(1, 1, 1)\n",
    "episode.viz(ax=ax)\n",
    "plt.show()"
   ]
  },
  {
   "cell_type": "markdown",
   "id": "e8a65288",
   "metadata": {},
   "source": [
    "# Policy Guide agent action history\n",
    "----"
   ]
  },
  {
   "cell_type": "code",
   "execution_count": 8,
   "id": "75c1f289",
   "metadata": {},
   "outputs": [
    {
     "name": "stdout",
     "output_type": "stream",
     "text": [
      "step: 0, logits: tensor([[-0.3432, -0.2014,  0.7900, -0.2160, -0.2586,  0.0687, -0.6921, -0.0723,\n",
      "         -0.1963]]), logit_prob: tensor([[0.1110]]), top_k_prob: tensor([[0.1592]]), action_idx: tensor([[7]]), state: tensor([0.5333, 0.5000])\n",
      "step: 1, logits: tensor([[ 0.8857, -0.4826,  0.1084,  0.1153, -0.4585, -0.3255,  0.1966, -0.1983,\n",
      "          0.2993]]), logit_prob: tensor([[0.1133]]), top_k_prob: tensor([[0.1542]]), action_idx: tensor([[2]]), state: tensor([0.5000, 0.5500])\n",
      "step: 2, logits: tensor([[ 0.2690, -0.1051,  0.6092,  0.4786,  0.4426, -0.9121, -0.6686,  0.0318,\n",
      "          0.0367]]), logit_prob: tensor([[0.1560]]), top_k_prob: tensor([[0.2500]]), action_idx: tensor([[2]]), state: tensor([0.4667, 0.6000])\n",
      "step: 3, logits: tensor([[-0.2396,  0.0644,  0.2511,  0.0699,  0.5454, -0.6707, -0.5895, -0.7095,\n",
      "          0.0613]]), logit_prob: tensor([[0.1239]]), top_k_prob: tensor([[0.1726]]), action_idx: tensor([[3]]), state: tensor([0.4667, 0.5500])\n",
      "step: 4, logits: tensor([[-0.3115, -0.5048,  0.0063,  0.5329,  0.1279, -0.3983, -0.3560, -0.3110,\n",
      "         -0.0466]]), logit_prob: tensor([[0.1159]]), top_k_prob: tensor([[0.1725]]), action_idx: tensor([[8]]), state: tensor([0.5000, 0.6000])\n",
      "step: 5, logits: tensor([[ 0.3703, -0.5653,  0.6979,  0.1384, -0.5192, -0.7087, -0.2497, -0.2093,\n",
      "         -0.0170]]), logit_prob: tensor([[0.1268]]), top_k_prob: tensor([[0.1794]]), action_idx: tensor([[3]]), state: tensor([0.5000, 0.5500])\n",
      "step: 6, logits: tensor([[ 0.2690, -0.1051,  0.6092,  0.4786,  0.4426, -0.9121, -0.6686,  0.0318,\n",
      "          0.0367]]), logit_prob: tensor([[0.1398]]), top_k_prob: tensor([[0.2116]]), action_idx: tensor([[4]]), state: tensor([0.5000, 0.5500])\n",
      "step: 7, logits: tensor([[ 0.2690, -0.1051,  0.6092,  0.4786,  0.4426, -0.9121, -0.6686,  0.0318,\n",
      "          0.0367]]), logit_prob: tensor([[0.1398]]), top_k_prob: tensor([[0.2116]]), action_idx: tensor([[4]]), state: tensor([0.5000, 0.5500])\n",
      "step: 8, logits: tensor([[ 0.2690, -0.1051,  0.6092,  0.4786,  0.4426, -0.9121, -0.6686,  0.0318,\n",
      "          0.0367]]), logit_prob: tensor([[0.1560]]), top_k_prob: tensor([[0.2500]]), action_idx: tensor([[2]]), state: tensor([0.4667, 0.6000])\n",
      "step: 9, logits: tensor([[-0.2396,  0.0644,  0.2511,  0.0699,  0.5454, -0.6707, -0.5895, -0.7095,\n",
      "          0.0613]]), logit_prob: tensor([[0.1432]]), top_k_prob: tensor([[0.2069]]), action_idx: tensor([[2]]), state: tensor([0.4333, 0.6500])\n",
      "step: 10, logits: tensor([[ 0.4109, -0.2847,  0.3407,  0.3530, -0.1622, -0.5083,  0.0156, -0.1747,\n",
      "         -0.1955]]), logit_prob: tensor([[0.1685]]), top_k_prob: tensor([[0.2431]]), action_idx: tensor([[0]]), state: tensor([0.4000, 0.6000])\n",
      "step: 11, logits: tensor([[ 0.1291, -0.3925,  0.4708, -0.4796,  0.4318, -0.0690, -0.0618,  0.0697,\n",
      "          0.1713]]), logit_prob: tensor([[0.1680]]), top_k_prob: tensor([[0.2449]]), action_idx: tensor([[2]]), state: tensor([0.3667, 0.6500])\n",
      "step: 12, logits: tensor([[-0.1512,  0.4079,  1.2171,  0.3618,  0.5710, -0.4595, -0.3505, -0.0707,\n",
      "         -0.2032]]), logit_prob: tensor([[0.1236]]), top_k_prob: tensor([[0.1667]]), action_idx: tensor([[1]]), state: tensor([0.3333, 0.6500])\n",
      "step: 13, logits: tensor([[-0.3307, -0.5617,  0.5916, -0.0011,  0.1951, -0.0855, -0.3121, -0.2085,\n",
      "         -0.2369]]), logit_prob: tensor([[0.1384]]), top_k_prob: tensor([[0.2113]]), action_idx: tensor([[4]]), state: tensor([0.3333, 0.6500])\n",
      "step: 14, logits: tensor([[-0.3307, -0.5617,  0.5916, -0.0011,  0.1951, -0.0855, -0.3121, -0.2085,\n",
      "         -0.2369]]), logit_prob: tensor([[0.1167]]), top_k_prob: tensor([[0.1737]]), action_idx: tensor([[3]]), state: tensor([0.3333, 0.6000])\n",
      "step: 15, logits: tensor([[ 0.2571, -0.4315,  0.3518, -0.6117, -0.3680, -0.7952, -0.6385, -0.1113,\n",
      "         -0.1376]]), logit_prob: tensor([[0.1214]]), top_k_prob: tensor([[0.1729]]), action_idx: tensor([[7]]), state: tensor([0.3667, 0.6000])\n",
      "step: 16, logits: tensor([[-0.3449, -0.2249,  0.2042,  0.5111, -0.5435, -0.6466, -0.5095,  0.0576,\n",
      "         -0.4343]]), logit_prob: tensor([[0.1331]]), top_k_prob: tensor([[0.1940]]), action_idx: tensor([[7]]), state: tensor([0.4000, 0.6000])\n",
      "step: 17, logits: tensor([[ 0.1291, -0.3925,  0.4708, -0.4796,  0.4318, -0.0690, -0.0618,  0.0697,\n",
      "          0.1713]]), logit_prob: tensor([[0.1680]]), top_k_prob: tensor([[0.2449]]), action_idx: tensor([[2]]), state: tensor([0.3667, 0.6500])\n",
      "step: 18, logits: tensor([[-0.1512,  0.4079,  1.2171,  0.3618,  0.5710, -0.4595, -0.3505, -0.0707,\n",
      "         -0.2032]]), logit_prob: tensor([[0.0929]]), top_k_prob: tensor([[0.1033]]), action_idx: tensor([[7]]), state: tensor([0.4000, 0.6500])\n",
      "step: 19, logits: tensor([[ 0.1162, -0.6037,  0.3207, -0.0112, -0.6645, -0.1647, -0.9802, -0.2568,\n",
      "          0.1462]]), logit_prob: tensor([[0.1419]]), top_k_prob: tensor([[0.2106]]), action_idx: tensor([[8]]), state: tensor([0.4333, 0.7000])\n",
      "episode reward: -4.442986488342285\n"
     ]
    },
    {
     "name": "stderr",
     "output_type": "stream",
     "text": [
      "/Users/chengbai/ml/cheng_git/rf_agent/src/reward_model.py:21: UserWarning: To copy construct from a tensor, it is recommended to use sourceTensor.clone().detach() or sourceTensor.clone().detach().requires_grad_(True), rather than torch.tensor(sourceTensor).\n",
      "  dxy = torch.tensor(action.get_udpate())\n"
     ]
    }
   ],
   "source": [
    "episode = Episode.new(id=\"test\")\n",
    "policy = Policy(config=episode.config).to(episode.config.device)\n",
    "\n",
    "episode.run_steps_by_policy(\n",
    "    steps=20, policy=policy, top_k=episode.config.top_k, debug=True\n",
    ")\n",
    "print(f\"episode reward: {episode.reward(reward_model=reward_model)}\")"
   ]
  },
  {
   "cell_type": "code",
   "execution_count": 9,
   "id": "868d98aa",
   "metadata": {},
   "outputs": [
    {
     "data": {
      "image/png": "[encoded data removed]",
      "text/plain": [
       "<Figure size 500x500 with 1 Axes>"
      ]
     },
     "metadata": {},
     "output_type": "display_data"
    }
   ],
   "source": [
    "fig = plt.figure(figsize=config.figure_size)\n",
    "ax = fig.add_subplot(1, 1, 1)\n",
    "episode.viz(ax=ax)\n",
    "plt.show()"
   ]
  },
  {
   "cell_type": "code",
   "execution_count": null,
   "id": "d794436c",
   "metadata": {},
   "outputs": [],
   "source": []
  },
  {
   "cell_type": "markdown",
   "id": "85fad34f",
   "metadata": {},
   "source": [
    "# TRAIN Policy\n",
    "----"
   ]
  },
  {
   "cell_type": "code",
   "execution_count": 10,
   "id": "597595ae",
   "metadata": {},
   "outputs": [],
   "source": [
    "def get_color(idx: int):\n",
    "    colors = [\"red\", \"green\", \"blue\", \"gray\"]\n",
    "    return colors[idx % len(colors)]\n",
    "\n",
    "\n",
    "def train_and_plot_policy(policy: Policy, debug: bool = False):\n",
    "    episode = Episode.new(id=\"train\")\n",
    "    print(f\"start: {episode.agent.current_state}\")\n",
    "    episode.train(steps=20, policy=policy, debug=debug)\n",
    "    print(f\"start2: {episode.agent.current_state}\")\n",
    "\n",
    "    fig = plt.figure(figsize=config.figure_size)\n",
    "    ax = fig.add_subplot(1, 1, 1)\n",
    "    episode.viz(ax=ax, color=get_color(0))\n",
    "    plt.show()\n",
    "\n",
    "    return episode\n",
    "\n",
    "\n",
    "def inference_and_plot_policy(policy: Policy, steps: int = 20, debug: bool = False):\n",
    "    episode = Episode.new(id=\"inference\")\n",
    "    print(f\"start state: {episode.agent.current_state}\")\n",
    "    episode.inference_steps_by_policy(steps=steps, policy=policy, debug=debug)\n",
    "    print(f\"end state: {episode.agent.current_state}\")\n",
    "\n",
    "    fig = plt.figure(figsize=config.figure_size)\n",
    "    ax = fig.add_subplot(1, 1, 1)\n",
    "    episode.viz(ax=ax, color=get_color(0))\n",
    "    plt.show()\n",
    "\n",
    "    return episode"
   ]
  },
  {
   "cell_type": "code",
   "execution_count": null,
   "id": "4d4216ed",
   "metadata": {},
   "outputs": [],
   "source": [
    "config = Config()"
   ]
  },
  {
   "cell_type": "code",
   "execution_count": null,
   "id": "165b6f2a",
   "metadata": {},
   "outputs": [],
   "source": [
    "policy = Policy(config=config).to(config.device)\n",
    "\n",
    "episode = train_and_plot_policy(policy=policy, debug=True)\n",
    "episode.agent.action_history"
   ]
  },
  {
   "cell_type": "code",
   "execution_count": null,
   "id": "4325981d",
   "metadata": {},
   "outputs": [],
   "source": [
    "policy = Policy(config=config).to(config.device)\n",
    "\n",
    "episode = inference_and_plot_policy(policy=policy, debug=True)\n",
    "episode.agent.action_history"
   ]
  },
  {
   "cell_type": "code",
   "execution_count": null,
   "id": "aea75219",
   "metadata": {},
   "outputs": [],
   "source": [
    "center_pos = torch.tensor([0, 80])\n",
    "fov = episode.fov(center_pos=center_pos)\n",
    "print(f\"fov: {fov.size()}\")\n",
    "print(f\"fov: {fov}\")\n",
    "\n",
    "fig = plt.figure(figsize=(3, 3))\n",
    "ax = fig.add_subplot(1, 1, 1)\n",
    "episode.world.viz_fov(center_pos=center_pos, ax=ax)\n",
    "plt.show()"
   ]
  },
  {
   "cell_type": "markdown",
   "id": "b048d3db",
   "metadata": {},
   "source": [
    "# Train Policy Model\n",
    "----"
   ]
  },
  {
   "cell_type": "code",
   "execution_count": null,
   "id": "67d37715",
   "metadata": {},
   "outputs": [],
   "source": [
    "policy = Policy(config=config).to(config.device)\n",
    "\n",
    "# GRPO\n",
    "# 1. Generate samples from the same starting state (same query)\n",
    "optimizer = torch.optim.AdamW(policy.parameters(), lr=1, weight_decay=0.01)\n",
    "writer = SummaryWriter()\n",
    "\n",
    "# for name, param in policy.brain[0].named_parameters():\n",
    "#     print(name, param)\n",
    "\n",
    "for iteration in range(10):\n",
    "    # each episode iteration is always starting from the same state\n",
    "    start_state = State.create_from(\n",
    "        config=config,\n",
    "        id=id,\n",
    "        x=(config.world_min_x + config.world_max_x) // 2,\n",
    "        y=(config.world_min_y + config.world_max_y) // 2,\n",
    "    )\n",
    "    target_state = State.create_from(\n",
    "        config=config,\n",
    "        id=\"earth\",\n",
    "        x=random.uniform(config.world_min_x, config.world_max_x),\n",
    "        y=random.uniform(config.world_min_y, config.world_max_y),\n",
    "    )\n",
    "\n",
    "    episodes = []\n",
    "    for episode_idx in range(config.episodes_per_iteration):\n",
    "        episode = Episode.create_from_state(\n",
    "            start_state=start_state, target_state=target_state\n",
    "        )\n",
    "        episode.train(steps=config.episode_steps, policy=policy, debug=False)\n",
    "        episodes.append(episode)\n",
    "\n",
    "    # 2. Compute the Advantages\n",
    "    episodes_rewards = torch.tensor(\n",
    "        [episode.reward() for episode in episodes], device=config.device\n",
    "    )\n",
    "    # print(f\"episodes rewards: {episodes_rewards}\")\n",
    "\n",
    "    r_std, r_mean = torch.std_mean(episodes_rewards)\n",
    "    writer.add_scalar(\"r_std\", r_std, iteration)\n",
    "    writer.add_scalar(\"r_mean\", r_mean, iteration)\n",
    "    if r_std == 0.0:\n",
    "        # print(f\"invalid episode, r_std: {r_std}\")\n",
    "        continue\n",
    "\n",
    "    r_advantages = (episodes_rewards - r_mean) / r_std\n",
    "    # print(f\"r_std: {r_std}, r_mean: {r_mean}, r_advantages: {r_advantages}\")\n",
    "\n",
    "    # 3. Compute the KL-\n",
    "    # N/A\n",
    "\n",
    "    # 4. Compute weighted rewards\n",
    "    advantage_weighted_rewards = episodes_rewards * r_advantages\n",
    "    # print(f\"advantage_weighted_rewards: {advantage_weighted_rewards}\")\n",
    "\n",
    "    episode_log_probs = torch.concat(\n",
    "        [episode.log_reward_prob() for episode in episodes]\n",
    "    ).to(config.device)\n",
    "    # print(f\"episode_log_probs: {episode_log_probs}\")\n",
    "    writer.add_histogram(f\"episode_log_probs\", episode_log_probs, iteration)\n",
    "\n",
    "    episode_probs = torch.concat([episode.reward_prob() for episode in episodes])\n",
    "    # print(f\"episode_probs: {episode_probs}\")\n",
    "    writer.add_histogram(f\"episode_probs\", episode_probs, iteration)\n",
    "\n",
    "    episode_weighted_rewards = (\n",
    "        advantage_weighted_rewards * episode_log_probs\n",
    "    )  # episode_probs\n",
    "    # print(f\"episode_weighted_rewards: {episode_weighted_rewards}\")\n",
    "    writer.add_histogram(\n",
    "        f\"episode_weighted_rewards\", episode_weighted_rewards, iteration\n",
    "    )\n",
    "\n",
    "    mean_episode_weighted_rewards = torch.mean(episode_weighted_rewards)\n",
    "    # print(f\"mean_episode_weighted_rewards: {mean_episode_weighted_rewards}\")\n",
    "    writer.add_scalar(\n",
    "        \"mean_episode_weighted_rewards\", mean_episode_weighted_rewards, iteration\n",
    "    )\n",
    "\n",
    "    # Debug\n",
    "    # def _print_grad(grad):\n",
    "    #     return\n",
    "    #     print(\"Gradient:\", grad)\n",
    "\n",
    "    # for name, param in policy.brain[0].named_parameters():\n",
    "    #     # print(name, param)\n",
    "    #     param.register_hook(_print_grad)\n",
    "\n",
    "    # Zero your gradients for every batch!\n",
    "    optimizer.zero_grad()\n",
    "    mean_episode_weighted_rewards.backward()\n",
    "    # for name, param in policy.brain[0].named_parameters():\n",
    "    #     print(name, param)\n",
    "\n",
    "    # Adjust learning weights\n",
    "    optimizer.step()\n",
    "\n",
    "    for name, param in policy.brain.named_parameters():\n",
    "        if param.grad is not None:\n",
    "            writer.add_histogram(f\"{name}.grad\", param.grad, iteration)\n",
    "\n",
    "    # for name, param in policy.brain[0].named_parameters():\n",
    "    #     print(name, param)"
   ]
  },
  {
   "cell_type": "code",
   "execution_count": null,
   "id": "5f0c0966",
   "metadata": {},
   "outputs": [],
   "source": [
    "episodes[0].log_reward_prob()\n",
    "lrps = [episode.log_reward_prob() for episode in episodes]\n",
    "torch.tensor(lrps)"
   ]
  },
  {
   "cell_type": "code",
   "execution_count": null,
   "id": "aeabedba",
   "metadata": {},
   "outputs": [],
   "source": [
    "episode = inference_and_plot_policy(policy=policy, steps=100, debug=False)\n",
    "# episode.agent.action_history, episode.reward()"
   ]
  },
  {
   "cell_type": "code",
   "execution_count": null,
   "id": "7696436d",
   "metadata": {},
   "outputs": [],
   "source": []
  },
  {
   "cell_type": "code",
   "execution_count": null,
   "id": "76311447",
   "metadata": {},
   "outputs": [],
   "source": []
  }
 ],
 "metadata": {
  "kernelspec": {
   "display_name": "torch",
   "language": "python",
   "name": "python3"
  },
  "language_info": {
   "codemirror_mode": {
    "name": "ipython",
    "version": 3
   },
   "file_extension": ".py",
   "mimetype": "text/x-python",
   "name": "python",
   "nbconvert_exporter": "python",
   "pygments_lexer": "ipython3",
   "version": "3.11.10"
  }
 },
 "nbformat": 4,
 "nbformat_minor": 5
}
