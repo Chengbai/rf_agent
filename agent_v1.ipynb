{
 "cells": [
  {
   "cell_type": "code",
   "execution_count": 1,
   "id": "80345412",
   "metadata": {},
   "outputs": [],
   "source": [
    "%load_ext autoreload\n",
    "%autoreload 2\n",
    "\n",
    "import matplotlib.pyplot as plt\n",
    "from IPython.display import display, clear_output\n",
    "\n",
    "import numpy as np\n",
    "import random\n",
    "import torch\n",
    "\n",
    "from torch.utils.tensorboard import SummaryWriter\n",
    "\n",
    "from src.action import Action\n",
    "from src.agent import Agent\n",
    "from src.config import Config\n",
    "from src.episode import Episode\n",
    "from src.policy.policy_base import PolicyBaseModel\n",
    "from src.policy_factory import PolicyMode, PolicyFactory\n",
    "from src.reward_model import RewardModel\n",
    "from src.state import State\n",
    "from src.utils import top_k_sampling\n",
    "from src.world import World\n",
    "import src.utils as utils"
   ]
  },
  {
   "cell_type": "markdown",
   "id": "85b28aa3",
   "metadata": {},
   "source": [
    "# Random agent action history\n",
    "----"
   ]
  },
  {
   "cell_type": "code",
   "execution_count": 2,
   "id": "6660c631",
   "metadata": {},
   "outputs": [
    {
     "data": {
      "text/plain": [
       "(11, 11)"
      ]
     },
     "execution_count": 2,
     "metadata": {},
     "output_type": "execute_result"
    }
   ],
   "source": [
    "config = Config()\n",
    "reward_model = RewardModel(config=config)\n",
    "world_board = np.zeros(shape=(config.world_height, config.world_width))\n",
    "world_board.shape"
   ]
  },
  {
   "cell_type": "code",
   "execution_count": 3,
   "id": "41cd6731",
   "metadata": {},
   "outputs": [],
   "source": [
    "episode = Episode.new(episode_id=\"test\")\n",
    "episode.run_steps_by_random(steps=30)"
   ]
  },
  {
   "cell_type": "code",
   "execution_count": 4,
   "id": "cdd94e4a",
   "metadata": {},
   "outputs": [
    {
     "ename": "TypeError",
     "evalue": "Episode.viz() missing 1 required positional argument: 'reward_model'",
     "output_type": "error",
     "traceback": [
      "\u001b[0;31m---------------------------------------------------------------------------\u001b[0m",
      "\u001b[0;31mTypeError\u001b[0m                                 Traceback (most recent call last)",
      "Cell \u001b[0;32mIn[4], line 3\u001b[0m\n\u001b[1;32m      1\u001b[0m fig \u001b[38;5;241m=\u001b[39m plt\u001b[38;5;241m.\u001b[39mfigure(figsize\u001b[38;5;241m=\u001b[39mconfig\u001b[38;5;241m.\u001b[39mfigure_size)\n\u001b[1;32m      2\u001b[0m ax \u001b[38;5;241m=\u001b[39m fig\u001b[38;5;241m.\u001b[39madd_subplot(\u001b[38;5;241m1\u001b[39m, \u001b[38;5;241m1\u001b[39m, \u001b[38;5;241m1\u001b[39m)\n\u001b[0;32m----> 3\u001b[0m episode\u001b[38;5;241m.\u001b[39mviz(ax\u001b[38;5;241m=\u001b[39max)\n\u001b[1;32m      4\u001b[0m plt\u001b[38;5;241m.\u001b[39mshow()\n",
      "\u001b[0;31mTypeError\u001b[0m: Episode.viz() missing 1 required positional argument: 'reward_model'"
     ]
    },
    {
     "data": {
      "image/png": "[encoded data removed]",
      "text/plain": [
       "<Figure size 500x500 with 1 Axes>"
      ]
     },
     "metadata": {},
     "output_type": "display_data"
    }
   ],
   "source": [
    "fig = plt.figure(figsize=config.figure_size)\n",
    "ax = fig.add_subplot(1, 1, 1)\n",
    "episode.viz(ax=ax)\n",
    "plt.show()"
   ]
  },
  {
   "cell_type": "markdown",
   "id": "e8a65288",
   "metadata": {},
   "source": [
    "# Policy Guide agent action history\n",
    "----"
   ]
  },
  {
   "cell_type": "code",
   "execution_count": null,
   "id": "75c1f289",
   "metadata": {},
   "outputs": [],
   "source": [
    "episode = Episode.new(id=\"test\")\n",
    "policy = PolicyFactory.create(\n",
    "    policy_mode=PolicyMode.LINEAR_MODEL, config=episode.config\n",
    ").to(episode.config.device)\n",
    "\n",
    "episode.run_steps_by_policy(\n",
    "    steps=20, policy=policy, top_k=episode.config.top_k, debug=True\n",
    ")\n",
    "print(f\"episode reward: {episode.reward(reward_model=reward_model)}\")"
   ]
  },
  {
   "cell_type": "code",
   "execution_count": null,
   "id": "868d98aa",
   "metadata": {},
   "outputs": [],
   "source": [
    "fig = plt.figure(figsize=config.figure_size)\n",
    "ax = fig.add_subplot(1, 1, 1)\n",
    "episode.viz(ax=ax)\n",
    "plt.show()"
   ]
  },
  {
   "cell_type": "code",
   "execution_count": null,
   "id": "d794436c",
   "metadata": {},
   "outputs": [],
   "source": []
  },
  {
   "cell_type": "markdown",
   "id": "85fad34f",
   "metadata": {},
   "source": [
    "# TRAIN Policy\n",
    "----"
   ]
  },
  {
   "cell_type": "code",
   "execution_count": null,
   "id": "597595ae",
   "metadata": {},
   "outputs": [],
   "source": [
    "def get_color(idx: int):\n",
    "    colors = [\"red\", \"green\", \"blue\", \"gray\"]\n",
    "    return colors[idx % len(colors)]\n",
    "\n",
    "\n",
    "def train_and_plot_policy(policy: PolicyBaseModel, debug: bool = False):\n",
    "    episode = Episode.new(id=\"train\")\n",
    "    print(f\"start: {episode.agent.current_state}\")\n",
    "    episode.train(steps=20, policy=policy, debug=debug)\n",
    "    print(f\"start2: {episode.agent.current_state}\")\n",
    "\n",
    "    fig = plt.figure(figsize=config.figure_size)\n",
    "    ax = fig.add_subplot(1, 1, 1)\n",
    "    episode.viz(ax=ax, color=get_color(0))\n",
    "    plt.show()\n",
    "\n",
    "    return episode\n",
    "\n",
    "\n",
    "def inference_and_plot_policy(\n",
    "    policy: PolicyBaseModel, steps: int = 20, debug: bool = False\n",
    "):\n",
    "    episode = Episode.new(id=\"inference\")\n",
    "    print(f\"start state: {episode.agent.current_state}\")\n",
    "    episode.inference_steps_by_policy(steps=steps, policy=policy, debug=debug)\n",
    "    print(f\"end state: {episode.agent.current_state}\")\n",
    "\n",
    "    fig = plt.figure(figsize=config.figure_size)\n",
    "    ax = fig.add_subplot(1, 1, 1)\n",
    "    episode.viz(ax=ax, color=get_color(0))\n",
    "    plt.show()\n",
    "\n",
    "    return episode"
   ]
  },
  {
   "cell_type": "code",
   "execution_count": null,
   "id": "4d4216ed",
   "metadata": {},
   "outputs": [],
   "source": [
    "config = Config()"
   ]
  },
  {
   "cell_type": "code",
   "execution_count": null,
   "id": "165b6f2a",
   "metadata": {},
   "outputs": [],
   "source": [
    "policy = PolicyFactory.create(policy_mode=PolicyMode.LINEAR_MODEL, config=config).to(\n",
    "    config.device\n",
    ")\n",
    "\n",
    "episode = train_and_plot_policy(policy=policy, debug=True)\n",
    "episode.agent.action_history"
   ]
  },
  {
   "cell_type": "code",
   "execution_count": null,
   "id": "4325981d",
   "metadata": {},
   "outputs": [],
   "source": [
    "policy = PolicyFactory.create(policy_mode=PolicyMode.LINEAR_MODEL, config=config).to(\n",
    "    config.device\n",
    ")\n",
    "\n",
    "episode = inference_and_plot_policy(policy=policy, debug=True)\n",
    "episode.agent.action_history"
   ]
  },
  {
   "cell_type": "code",
   "execution_count": null,
   "id": "aea75219",
   "metadata": {},
   "outputs": [],
   "source": [
    "center_pos = torch.tensor([0, 80])\n",
    "fov = episode.fov(center_pos=center_pos)\n",
    "print(f\"fov: {fov.size()}\")\n",
    "print(f\"fov: {fov}\")\n",
    "\n",
    "fig = plt.figure(figsize=(3, 3))\n",
    "ax = fig.add_subplot(1, 1, 1)\n",
    "episode.world.viz_fov(center_pos=center_pos, ax=ax)\n",
    "plt.show()"
   ]
  },
  {
   "cell_type": "markdown",
   "id": "b048d3db",
   "metadata": {},
   "source": [
    "# Train Policy Model\n",
    "----"
   ]
  },
  {
   "cell_type": "code",
   "execution_count": null,
   "id": "67d37715",
   "metadata": {},
   "outputs": [],
   "source": [
    "policy = PolicyFactory.create(policy_mode=PolicyMode.LINEAR_MODEL, config=config).to(\n",
    "    config.device\n",
    ")\n",
    "\n",
    "# GRPO\n",
    "# 1. Generate samples from the same starting state (same query)\n",
    "optimizer = torch.optim.AdamW(policy.parameters(), lr=1, weight_decay=0.01)\n",
    "writer = SummaryWriter()\n",
    "\n",
    "# for name, param in policy.brain[0].named_parameters():\n",
    "#     print(name, param)\n",
    "\n",
    "for iteration in range(10):\n",
    "    # each episode iteration is always starting from the same state\n",
    "    start_state = State.create_from(\n",
    "        config=config,\n",
    "        id=id,\n",
    "        x=(config.world_min_x + config.world_max_x) // 2,\n",
    "        y=(config.world_min_y + config.world_max_y) // 2,\n",
    "    )\n",
    "    target_state = State.create_from(\n",
    "        config=config,\n",
    "        id=\"earth\",\n",
    "        x=random.uniform(config.world_min_x, config.world_max_x),\n",
    "        y=random.uniform(config.world_min_y, config.world_max_y),\n",
    "    )\n",
    "\n",
    "    episodes = []\n",
    "    for episode_idx in range(config.episodes_per_iteration):\n",
    "        episode = Episode.create_from_state(\n",
    "            start_state=start_state, target_state=target_state\n",
    "        )\n",
    "        episode.train(steps=config.episode_steps, policy=policy, debug=False)\n",
    "        episodes.append(episode)\n",
    "\n",
    "    # 2. Compute the Advantages\n",
    "    episodes_rewards = torch.tensor(\n",
    "        [episode.reward() for episode in episodes], device=config.device\n",
    "    )\n",
    "    # print(f\"episodes rewards: {episodes_rewards}\")\n",
    "\n",
    "    r_std, r_mean = torch.std_mean(episodes_rewards)\n",
    "    writer.add_scalar(\"r_std\", r_std, iteration)\n",
    "    writer.add_scalar(\"r_mean\", r_mean, iteration)\n",
    "    if r_std == 0.0:\n",
    "        # print(f\"invalid episode, r_std: {r_std}\")\n",
    "        continue\n",
    "\n",
    "    r_advantages = (episodes_rewards - r_mean) / r_std\n",
    "    # print(f\"r_std: {r_std}, r_mean: {r_mean}, r_advantages: {r_advantages}\")\n",
    "\n",
    "    # 3. Compute the KL-\n",
    "    # N/A\n",
    "\n",
    "    # 4. Compute weighted rewards\n",
    "    advantage_weighted_rewards = episodes_rewards * r_advantages\n",
    "    # print(f\"advantage_weighted_rewards: {advantage_weighted_rewards}\")\n",
    "\n",
    "    episode_log_probs = torch.concat(\n",
    "        [episode.log_reward_prob() for episode in episodes]\n",
    "    ).to(config.device)\n",
    "    # print(f\"episode_log_probs: {episode_log_probs}\")\n",
    "    writer.add_histogram(f\"episode_log_probs\", episode_log_probs, iteration)\n",
    "\n",
    "    episode_probs = torch.concat([episode.reward_prob() for episode in episodes])\n",
    "    # print(f\"episode_probs: {episode_probs}\")\n",
    "    writer.add_histogram(f\"episode_probs\", episode_probs, iteration)\n",
    "\n",
    "    episode_weighted_rewards = (\n",
    "        advantage_weighted_rewards * episode_log_probs\n",
    "    )  # episode_probs\n",
    "    # print(f\"episode_weighted_rewards: {episode_weighted_rewards}\")\n",
    "    writer.add_histogram(\n",
    "        f\"episode_weighted_rewards\", episode_weighted_rewards, iteration\n",
    "    )\n",
    "\n",
    "    mean_episode_weighted_rewards = torch.mean(episode_weighted_rewards)\n",
    "    # print(f\"mean_episode_weighted_rewards: {mean_episode_weighted_rewards}\")\n",
    "    writer.add_scalar(\n",
    "        \"mean_episode_weighted_rewards\", mean_episode_weighted_rewards, iteration\n",
    "    )\n",
    "\n",
    "    # Debug\n",
    "    # def _print_grad(grad):\n",
    "    #     return\n",
    "    #     print(\"Gradient:\", grad)\n",
    "\n",
    "    # for name, param in policy.brain[0].named_parameters():\n",
    "    #     # print(name, param)\n",
    "    #     param.register_hook(_print_grad)\n",
    "\n",
    "    # Zero your gradients for every batch!\n",
    "    optimizer.zero_grad()\n",
    "    mean_episode_weighted_rewards.backward()\n",
    "    # for name, param in policy.brain[0].named_parameters():\n",
    "    #     print(name, param)\n",
    "\n",
    "    # Adjust learning weights\n",
    "    optimizer.step()\n",
    "\n",
    "    for name, param in policy.brain.named_parameters():\n",
    "        if param.grad is not None:\n",
    "            writer.add_histogram(f\"{name}.grad\", param.grad, iteration)\n",
    "\n",
    "    # for name, param in policy.brain[0].named_parameters():\n",
    "    #     print(name, param)"
   ]
  },
  {
   "cell_type": "code",
   "execution_count": null,
   "id": "5f0c0966",
   "metadata": {},
   "outputs": [],
   "source": [
    "episodes[0].log_reward_prob()\n",
    "lrps = [episode.log_reward_prob() for episode in episodes]\n",
    "torch.tensor(lrps)"
   ]
  },
  {
   "cell_type": "code",
   "execution_count": null,
   "id": "aeabedba",
   "metadata": {},
   "outputs": [],
   "source": [
    "episode = inference_and_plot_policy(policy=policy, steps=100, debug=False)\n",
    "# episode.agent.action_history, episode.reward()"
   ]
  },
  {
   "cell_type": "code",
   "execution_count": null,
   "id": "7696436d",
   "metadata": {},
   "outputs": [],
   "source": []
  },
  {
   "cell_type": "code",
   "execution_count": null,
   "id": "76311447",
   "metadata": {},
   "outputs": [],
   "source": []
  }
 ],
 "metadata": {
  "kernelspec": {
   "display_name": "torch",
   "language": "python",
   "name": "python3"
  },
  "language_info": {
   "codemirror_mode": {
    "name": "ipython",
    "version": 3
   },
   "file_extension": ".py",
   "mimetype": "text/x-python",
   "name": "python",
   "nbconvert_exporter": "python",
   "pygments_lexer": "ipython3",
   "version": "3.11.10"
  }
 },
 "nbformat": 4,
 "nbformat_minor": 5
}
